{
 "cells": [
  {
   "cell_type": "code",
   "execution_count": null,
   "id": "193e66e3",
   "metadata": {
    "ExecuteTime": {
     "end_time": "2025-07-04T09:42:10.653902Z",
     "start_time": "2025-07-04T09:42:08.837090Z"
    }
   },
   "outputs": [],
   "source": [
    "import pandas as pd\n",
    "import sparql_dataframe as sdf\n",
    "from SPARQLWrapper import SPARQLWrapper, JSON\n",
    "import json\n",
    "from neo4j import GraphDatabase\n",
    "import re\n",
    "\n",
    "from utils import *\n",
    "\n"
   ]
  },
  {
   "cell_type": "code",
   "execution_count": null,
   "id": "3e9214b49e19a402",
   "metadata": {
    "ExecuteTime": {
     "end_time": "2025-07-04T09:42:23.125912Z",
     "start_time": "2025-07-04T09:42:10.800738Z"
    }
   },
   "outputs": [],
   "source": [
    "q = construct_general_query()\n",
    "df_mAb = sdf.get(endpoint=endpoint, query=q, post=True)\n",
    "df_mAb=df_mAb.dropna()"
   ]
  },
  {
   "cell_type": "markdown",
   "id": "97d04f6e",
   "metadata": {},
   "source": [
    "Connexion à la base de données Neo4j"
   ]
  },
  {
   "cell_type": "code",
   "execution_count": null,
   "id": "7ea57dc0",
   "metadata": {
    "ExecuteTime": {
     "end_time": "2025-07-04T09:42:23.507888Z",
     "start_time": "2025-07-04T09:42:23.498276Z"
    }
   },
   "outputs": [],
   "source": [
    "test_gdb_connection(driver, database_name=\"mab4j\")"
   ]
  },
  {
   "cell_type": "code",
   "execution_count": null,
   "id": "915698d0",
   "metadata": {
    "ExecuteTime": {
     "end_time": "2025-07-04T09:42:25.060094Z",
     "start_time": "2025-07-04T09:42:23.549558Z"
    }
   },
   "outputs": [],
   "source": [
    "# Requête SPARQL pour récupérer tous les labels :\n",
    "q = \"\"\"\n",
    "PREFIX rdfs: <http://www.w3.org/2000/01/rdf-schema#>\n",
    "SELECT ?subject ?object WHERE {{\n",
    "  ?subject rdfs:label ?object .\n",
    "}}\n",
    "\"\"\"\n",
    "df_label = sdf.get(endpoint, q)\n",
    "\n"
   ]
  },
  {
   "cell_type": "markdown",
   "id": "0b4f18f1",
   "metadata": {},
   "source": [
    "Inférence des types à partir des URIs"
   ]
  },
  {
   "cell_type": "code",
   "execution_count": null,
   "id": "21a76bd0",
   "metadata": {
    "ExecuteTime": {
     "end_time": "2025-07-04T09:43:18.274687Z",
     "start_time": "2025-07-04T09:42:25.070380Z"
    }
   },
   "outputs": [],
   "source": [
    "\n",
    "for index, row in df_mAb.iterrows():\n",
    "    subject = row[\"subject\"]\n",
    "    object_ = row[\"object\"]\n",
    "    relation = row[\"relation\"]\n",
    "\n",
    "    if relation == \"https://www.wikidata.org/wiki/Property:P1542\":\n",
    "        relation = \"https://www.wikidata.org/wiki/Property/P1542\"\n",
    "    # logger.info(\n",
    "    #     f\"\"\"{subject},\n",
    "    #     {relation},\n",
    "    #     {object_},\"\"\"\n",
    "    # )\n",
    "    add_entity(driver, subject, object_, relation)"
   ]
  }
 ],
 "metadata": {
  "kernelspec": {
   "display_name": "graphEnv",
   "language": "python",
   "name": "graphenv"
  },
  "language_info": {
   "codemirror_mode": {
    "name": "ipython",
    "version": 3
   },
   "file_extension": ".py",
   "mimetype": "text/x-python",
   "name": "python",
   "nbconvert_exporter": "python",
   "pygments_lexer": "ipython3",
   "version": "3.12.3"
  }
 },
 "nbformat": 4,
 "nbformat_minor": 5
}
